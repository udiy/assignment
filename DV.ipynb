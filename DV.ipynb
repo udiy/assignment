{
 "cells": [
  {
   "cell_type": "code",
   "execution_count": 1,
   "metadata": {
    "ExecuteTime": {
     "end_time": "2021-04-23T12:27:53.206195Z",
     "start_time": "2021-04-23T12:27:52.637337Z"
    }
   },
   "outputs": [],
   "source": [
    "import numpy as np\n",
    "import pandas as pd\n",
    "\n",
    "import matplotlib.pyplot as plt"
   ]
  },
  {
   "cell_type": "markdown",
   "metadata": {},
   "source": [
    "# Load data"
   ]
  },
  {
   "cell_type": "code",
   "execution_count": 2,
   "metadata": {
    "ExecuteTime": {
     "end_time": "2021-04-23T12:27:53.252112Z",
     "start_time": "2021-04-23T12:27:53.212177Z"
    }
   },
   "outputs": [],
   "source": [
    "df = pd.read_csv(\"DV - Fraud Analyst Test - data.csv\")"
   ]
  },
  {
   "cell_type": "markdown",
   "metadata": {},
   "source": [
    "# Explore data\n",
    "Try to understand what is normal activity for each site, maybe construct a baseline"
   ]
  },
  {
   "cell_type": "code",
   "execution_count": 3,
   "metadata": {
    "ExecuteTime": {
     "end_time": "2021-04-23T12:27:53.284067Z",
     "start_time": "2021-04-23T12:27:53.258153Z"
    }
   },
   "outputs": [
    {
     "data": {
      "text/html": [
       "<div>\n",
       "<style scoped>\n",
       "    .dataframe tbody tr th:only-of-type {\n",
       "        vertical-align: middle;\n",
       "    }\n",
       "\n",
       "    .dataframe tbody tr th {\n",
       "        vertical-align: top;\n",
       "    }\n",
       "\n",
       "    .dataframe thead th {\n",
       "        text-align: right;\n",
       "    }\n",
       "</style>\n",
       "<table border=\"1\" class=\"dataframe\">\n",
       "  <thead>\n",
       "    <tr style=\"text-align: right;\">\n",
       "      <th></th>\n",
       "      <th>UserId</th>\n",
       "      <th>Device Model</th>\n",
       "      <th>Browser</th>\n",
       "      <th>OS</th>\n",
       "      <th>User-Agent</th>\n",
       "      <th>IP</th>\n",
       "      <th>IP-country</th>\n",
       "      <th>Site</th>\n",
       "      <th>HourId</th>\n",
       "    </tr>\n",
       "  </thead>\n",
       "  <tbody>\n",
       "    <tr>\n",
       "      <th>0</th>\n",
       "      <td>29670797</td>\n",
       "      <td>Desktop</td>\n",
       "      <td>Chrome</td>\n",
       "      <td>Windows</td>\n",
       "      <td>Mozilla/5.0 (Windows NT 10.0; Win64; x64) Appl...</td>\n",
       "      <td>107.77.228.159</td>\n",
       "      <td>United States</td>\n",
       "      <td>a.com</td>\n",
       "      <td>7</td>\n",
       "    </tr>\n",
       "    <tr>\n",
       "      <th>1</th>\n",
       "      <td>28970770</td>\n",
       "      <td>Desktop</td>\n",
       "      <td>Chrome</td>\n",
       "      <td>Mac</td>\n",
       "      <td>Mozilla/5.0 (Macintosh; Intel Mac OS X 10_14_5...</td>\n",
       "      <td>24.114.99.243</td>\n",
       "      <td>Canada</td>\n",
       "      <td>a.com</td>\n",
       "      <td>12</td>\n",
       "    </tr>\n",
       "    <tr>\n",
       "      <th>2</th>\n",
       "      <td>13222192</td>\n",
       "      <td>Samsung Galaxy J7 (2017)</td>\n",
       "      <td>Other</td>\n",
       "      <td>Android</td>\n",
       "      <td>Mozilla/5.0 (Linux; Android 8.1.0; SAMSUNG SM-...</td>\n",
       "      <td>97.103.218.154</td>\n",
       "      <td>United States</td>\n",
       "      <td>a.com</td>\n",
       "      <td>3</td>\n",
       "    </tr>\n",
       "    <tr>\n",
       "      <th>3</th>\n",
       "      <td>27951845</td>\n",
       "      <td>Desktop</td>\n",
       "      <td>Firefox</td>\n",
       "      <td>Windows</td>\n",
       "      <td>Mozilla/5.0 (Windows NT 10.0; Win64; x64; rv:6...</td>\n",
       "      <td>157.44.13.85</td>\n",
       "      <td>India</td>\n",
       "      <td>a.com</td>\n",
       "      <td>14</td>\n",
       "    </tr>\n",
       "    <tr>\n",
       "      <th>4</th>\n",
       "      <td>29057958</td>\n",
       "      <td>Apple iPhone</td>\n",
       "      <td>Safari</td>\n",
       "      <td>iOS</td>\n",
       "      <td>Mozilla/5.0 (iPhone; CPU iPhone OS 12_0_1 like...</td>\n",
       "      <td>162.196.143.222</td>\n",
       "      <td>United States</td>\n",
       "      <td>a.com</td>\n",
       "      <td>7</td>\n",
       "    </tr>\n",
       "  </tbody>\n",
       "</table>\n",
       "</div>"
      ],
      "text/plain": [
       "     UserId              Device Model  Browser       OS  \\\n",
       "0  29670797                   Desktop   Chrome  Windows   \n",
       "1  28970770                   Desktop   Chrome      Mac   \n",
       "2  13222192  Samsung Galaxy J7 (2017)    Other  Android   \n",
       "3  27951845                   Desktop  Firefox  Windows   \n",
       "4  29057958              Apple iPhone   Safari      iOS   \n",
       "\n",
       "                                          User-Agent               IP  \\\n",
       "0  Mozilla/5.0 (Windows NT 10.0; Win64; x64) Appl...   107.77.228.159   \n",
       "1  Mozilla/5.0 (Macintosh; Intel Mac OS X 10_14_5...    24.114.99.243   \n",
       "2  Mozilla/5.0 (Linux; Android 8.1.0; SAMSUNG SM-...   97.103.218.154   \n",
       "3  Mozilla/5.0 (Windows NT 10.0; Win64; x64; rv:6...     157.44.13.85   \n",
       "4  Mozilla/5.0 (iPhone; CPU iPhone OS 12_0_1 like...  162.196.143.222   \n",
       "\n",
       "     IP-country    Site  HourId   \n",
       "0  United States  a.com        7  \n",
       "1         Canada  a.com       12  \n",
       "2  United States  a.com        3  \n",
       "3          India  a.com       14  \n",
       "4  United States  a.com        7  "
      ]
     },
     "execution_count": 3,
     "metadata": {},
     "output_type": "execute_result"
    }
   ],
   "source": [
    "df.head()"
   ]
  },
  {
   "cell_type": "markdown",
   "metadata": {},
   "source": [
    "## Traffic by hour"
   ]
  },
  {
   "cell_type": "code",
   "execution_count": 4,
   "metadata": {
    "ExecuteTime": {
     "end_time": "2021-04-23T12:27:53.300023Z",
     "start_time": "2021-04-23T12:27:53.285038Z"
    }
   },
   "outputs": [],
   "source": [
    "# groupby\n",
    "df_by_hour = df.groupby(by=[\"Site\", \"HourId\\xa0\"]).count().iloc[:,0].unstack(level=0)"
   ]
  },
  {
   "cell_type": "code",
   "execution_count": 5,
   "metadata": {
    "ExecuteTime": {
     "end_time": "2021-04-23T12:27:54.402015Z",
     "start_time": "2021-04-23T12:27:53.300995Z"
    }
   },
   "outputs": [
    {
     "data": {
      "image/png": "[encoded data removed]",
      "text/plain": [
       "<Figure size 1152x648 with 8 Axes>"
      ]
     },
     "metadata": {
      "needs_background": "light"
     },
     "output_type": "display_data"
    }
   ],
   "source": [
    "# plot\n",
    "df_by_hour.plot(subplots=True, layout=(4,2), figsize=(16,9), kind=\"bar\")\n",
    "plt.show()"
   ]
  },
  {
   "cell_type": "markdown",
   "metadata": {},
   "source": [
    "## Unique users"
   ]
  },
  {
   "cell_type": "code",
   "execution_count": 6,
   "metadata": {
    "ExecuteTime": {
     "end_time": "2021-04-23T12:27:54.544515Z",
     "start_time": "2021-04-23T12:27:54.402821Z"
    }
   },
   "outputs": [
    {
     "data": {
      "text/plain": [
       "<AxesSubplot:xlabel='Site'>"
      ]
     },
     "execution_count": 6,
     "metadata": {},
     "output_type": "execute_result"
    },
    {
     "data": {
      "image/png": "[encoded data removed]",
      "text/plain": [
       "<Figure size 432x288 with 1 Axes>"
      ]
     },
     "metadata": {
      "needs_background": "light"
     },
     "output_type": "display_data"
    }
   ],
   "source": [
    "df.groupby(by=\"Site\")[\"UserId\"].nunique().plot(kind=\"bar\")"
   ]
  },
  {
   "cell_type": "markdown",
   "metadata": {},
   "source": [
    "## Unique IPs"
   ]
  },
  {
   "cell_type": "code",
   "execution_count": 7,
   "metadata": {
    "ExecuteTime": {
     "end_time": "2021-04-23T12:27:54.656138Z",
     "start_time": "2021-04-23T12:27:54.547507Z"
    }
   },
   "outputs": [
    {
     "data": {
      "text/plain": [
       "<AxesSubplot:xlabel='Site'>"
      ]
     },
     "execution_count": 7,
     "metadata": {},
     "output_type": "execute_result"
    },
    {
     "data": {
      "image/png": "[encoded data removed]",
      "text/plain": [
       "<Figure size 432x288 with 1 Axes>"
      ]
     },
     "metadata": {
      "needs_background": "light"
     },
     "output_type": "display_data"
    }
   ],
   "source": [
    "df.groupby(by=\"Site\")[\"IP\"].nunique().plot(kind=\"bar\")"
   ]
  },
  {
   "cell_type": "markdown",
   "metadata": {},
   "source": [
    "## Unique UAs\n",
    "It's better to look into user agents, it's normally determined by the combination of OS, browser and device."
   ]
  },
  {
   "cell_type": "code",
   "execution_count": 8,
   "metadata": {
    "ExecuteTime": {
     "end_time": "2021-04-23T12:27:54.783774Z",
     "start_time": "2021-04-23T12:27:54.658929Z"
    }
   },
   "outputs": [
    {
     "data": {
      "text/plain": [
       "<AxesSubplot:xlabel='Site'>"
      ]
     },
     "execution_count": 8,
     "metadata": {},
     "output_type": "execute_result"
    },
    {
     "data": {
      "image/png": "[encoded data removed]",
      "text/plain": [
       "<Figure size 432x288 with 1 Axes>"
      ]
     },
     "metadata": {
      "needs_background": "light"
     },
     "output_type": "display_data"
    }
   ],
   "source": [
    "df.groupby(by=\"Site\")[\"User-Agent\"].nunique().plot(kind=\"bar\")"
   ]
  },
  {
   "cell_type": "markdown",
   "metadata": {},
   "source": [
    "## Unique device models"
   ]
  },
  {
   "cell_type": "code",
   "execution_count": 9,
   "metadata": {
    "ExecuteTime": {
     "end_time": "2021-04-23T12:27:54.909278Z",
     "start_time": "2021-04-23T12:27:54.784671Z"
    }
   },
   "outputs": [
    {
     "data": {
      "text/plain": [
       "<AxesSubplot:xlabel='Site'>"
      ]
     },
     "execution_count": 9,
     "metadata": {},
     "output_type": "execute_result"
    },
    {
     "data": {
      "image/png": "[encoded data removed]",
      "text/plain": [
       "<Figure size 432x288 with 1 Axes>"
      ]
     },
     "metadata": {
      "needs_background": "light"
     },
     "output_type": "display_data"
    }
   ],
   "source": [
    "df.groupby(by=\"Site\")[\"Device Model\"].nunique().plot(kind=\"bar\")"
   ]
  },
  {
   "cell_type": "markdown",
   "metadata": {},
   "source": [
    "The first thing that sticks out is the peculiar traffic pattern to e.com. My basic assumption is that all sites are \"normal\" and should have similarities in their traffic patterns. Site e.com is definitely different than the rest. It has 3 spikes in traffic amount, while most hours the traffic is nearly 0. It doesn't mean this is abnormal activity, but it is definitely raises questions.\n",
    "\n",
    "Looking at unique users, IPs, user agents and devices - we can see that e.com continues to be unusual, comparing to all other sites. Site c.com is similar to e.com in these visualizations, and a second look on c.com traffic patterns shows it also has unusual traffic, although it's harder to spot in a quick look, because no distinct spikes in there.\n",
    "\n",
    "We can see a very distinct rise in traffic in early morning hours for all sites, but c.com and e.com. Which makes sense because people tend to sleep at night, and then go online in the morning to catch up with news and social media."
   ]
  },
  {
   "cell_type": "markdown",
   "metadata": {},
   "source": [
    "# Deeper look into e.com\n",
    "I want to examine e.com traffic in a closer look, and see if there are more indicators for suspicious activity."
   ]
  },
  {
   "cell_type": "code",
   "execution_count": 10,
   "metadata": {
    "ExecuteTime": {
     "end_time": "2021-04-23T12:27:54.925280Z",
     "start_time": "2021-04-23T12:27:54.910286Z"
    }
   },
   "outputs": [],
   "source": [
    "df_e = df[df[\"Site\"] == \"e.com\"]"
   ]
  },
  {
   "cell_type": "markdown",
   "metadata": {},
   "source": [
    "## IPs"
   ]
  },
  {
   "cell_type": "code",
   "execution_count": 11,
   "metadata": {
    "ExecuteTime": {
     "end_time": "2021-04-23T12:27:54.941230Z",
     "start_time": "2021-04-23T12:27:54.929265Z"
    }
   },
   "outputs": [
    {
     "data": {
      "text/plain": [
       "52.23.63.10        750\n",
       "52.23.63.197        25\n",
       "52.23.63.198        24\n",
       "52.23.63.195        20\n",
       "52.23.63.199        20\n",
       "52.23.63.196        19\n",
       "52.23.63.200        18\n",
       "52.23.63.194        16\n",
       "52.23.63.193         8\n",
       "162.196.143.222      3\n",
       "96.42.226.14         2\n",
       "174.233.13.40        2\n",
       "69.158.246.234       2\n",
       "107.72.178.142       2\n",
       "69.141.167.31        2\n",
       "54.84.167.37         2\n",
       "178.196.20.240       2\n",
       "165.225.50.94        2\n",
       "69.17.243.114        2\n",
       "67.209.30.79         2\n",
       "Name: IP, dtype: int64"
      ]
     },
     "execution_count": 11,
     "metadata": {},
     "output_type": "execute_result"
    }
   ],
   "source": [
    "df_e[\"IP\"].value_counts().nlargest(20)"
   ]
  },
  {
   "cell_type": "code",
   "execution_count": 12,
   "metadata": {
    "ExecuteTime": {
     "end_time": "2021-04-23T12:27:54.957219Z",
     "start_time": "2021-04-23T12:27:54.943224Z"
    }
   },
   "outputs": [
    {
     "data": {
      "text/plain": [
       "900"
      ]
     },
     "execution_count": 12,
     "metadata": {},
     "output_type": "execute_result"
    }
   ],
   "source": [
    "df_e[\"IP\"].str.contains(pat=\"52.23.63\").sum()"
   ]
  },
  {
   "cell_type": "markdown",
   "metadata": {},
   "source": [
    "## Browsers"
   ]
  },
  {
   "cell_type": "code",
   "execution_count": 13,
   "metadata": {
    "ExecuteTime": {
     "end_time": "2021-04-23T12:27:54.973217Z",
     "start_time": "2021-04-23T12:27:54.959220Z"
    }
   },
   "outputs": [
    {
     "data": {
      "text/plain": [
       "Firefox              762\n",
       "Chrome               197\n",
       "Safari                26\n",
       "Internet Explorer      7\n",
       "Other                  4\n",
       "Chrome Web View        3\n",
       "Safari Web View        1\n",
       "Name: Browser, dtype: int64"
      ]
     },
     "execution_count": 13,
     "metadata": {},
     "output_type": "execute_result"
    }
   ],
   "source": [
    "# for e.com only\n",
    "df_e[\"Browser\"].value_counts()"
   ]
  },
  {
   "cell_type": "code",
   "execution_count": 14,
   "metadata": {
    "ExecuteTime": {
     "end_time": "2021-04-23T12:27:54.989203Z",
     "start_time": "2021-04-23T12:27:54.974141Z"
    }
   },
   "outputs": [
    {
     "data": {
      "text/plain": [
       "Chrome               3055\n",
       "Safari               1908\n",
       "Firefox              1102\n",
       "Internet Explorer     360\n",
       "Other                 332\n",
       "Safari Web View       172\n",
       "Chrome Web View        71\n",
       "Name: Browser, dtype: int64"
      ]
     },
     "execution_count": 14,
     "metadata": {},
     "output_type": "execute_result"
    }
   ],
   "source": [
    "# for all sites\n",
    "df[\"Browser\"].value_counts()"
   ]
  },
  {
   "cell_type": "markdown",
   "metadata": {},
   "source": [
    "## Distribution of users"
   ]
  },
  {
   "cell_type": "code",
   "execution_count": 15,
   "metadata": {
    "ExecuteTime": {
     "end_time": "2021-04-23T12:27:55.005138Z",
     "start_time": "2021-04-23T12:27:54.990186Z"
    }
   },
   "outputs": [
    {
     "data": {
      "text/plain": [
       "28463371    260\n",
       "29479236    246\n",
       "26989700    244\n",
       "28034571     25\n",
       "24871383     24\n",
       "23404441     20\n",
       "26928469     20\n",
       "28457180     19\n",
       "25403294     18\n",
       "26954816     16\n",
       "24502491      8\n",
       "29057958      3\n",
       "29258275      2\n",
       "28363241      2\n",
       "29666109      2\n",
       "26848453      2\n",
       "28469553      2\n",
       "27874604      2\n",
       "26344772      2\n",
       "29675479      2\n",
       "Name: UserId, dtype: int64"
      ]
     },
     "execution_count": 15,
     "metadata": {},
     "output_type": "execute_result"
    }
   ],
   "source": [
    "df_e[\"UserId\"].value_counts().nlargest(20)"
   ]
  },
  {
   "cell_type": "markdown",
   "metadata": {},
   "source": [
    "## Conclusion for e.com"
   ]
  },
  {
   "cell_type": "markdown",
   "metadata": {},
   "source": [
    "900 (90%) of the logs have the same IP pattern 52.23.63, and one specific IP (52.23.63.10) accounts for 75% of traffic. A quick google search shows that this is an AWS IP, one of the largest cloud providers. It is possible that an AWS user is using their platform to run their malicious bots on e.com.\n",
    "\n",
    "In addition, most of the traffic comes from Firefox browser (76%). This is also unusual in comparison to the \"normal\". If we take a look at the most used browser for *all* sites, we see that Chrome is 1st, Safari is 2d and Firefox is only 3rd. I would expect to see a somewaht similar distribution on each individual site.\n",
    "\n",
    "If this is not enough, we can also see that about 75% of the traffic was generated by only 3 users.\n",
    "\n",
    "Conclusion: There's defenitely something abnormal about e.com. It's not necessarily bad activity - I'll need more details (site type and services, user activity on the site, etc.) on this site to determine that, but this is definitely not normal users traffic, worth looking into."
   ]
  },
  {
   "cell_type": "markdown",
   "metadata": {},
   "source": [
    "# Deeper look into c.com"
   ]
  },
  {
   "cell_type": "code",
   "execution_count": 16,
   "metadata": {
    "ExecuteTime": {
     "end_time": "2021-04-23T12:27:55.020059Z",
     "start_time": "2021-04-23T12:27:55.006118Z"
    }
   },
   "outputs": [],
   "source": [
    "df_c = df[df[\"Site\"] == \"c.com\"]"
   ]
  },
  {
   "cell_type": "markdown",
   "metadata": {},
   "source": [
    "## IPs"
   ]
  },
  {
   "cell_type": "code",
   "execution_count": 17,
   "metadata": {
    "ExecuteTime": {
     "end_time": "2021-04-23T12:27:55.036047Z",
     "start_time": "2021-04-23T12:27:55.021053Z"
    }
   },
   "outputs": [
    {
     "data": {
      "text/plain": [
       "52.23.63.193    98\n",
       "52.23.63.196    62\n",
       "52.23.63.198    60\n",
       "52.23.63.194    58\n",
       "52.23.63.199    57\n",
       "52.23.63.200    55\n",
       "52.23.63.195    54\n",
       "52.23.63.182    47\n",
       "52.23.63.197    46\n",
       "52.23.63.189    44\n",
       "52.23.63.192    43\n",
       "52.23.63.186    42\n",
       "52.23.63.184    38\n",
       "52.23.63.180    37\n",
       "52.23.63.190    36\n",
       "52.23.63.185    34\n",
       "52.23.63.183    33\n",
       "52.23.63.187    29\n",
       "52.23.63.181    29\n",
       "52.23.63.188    27\n",
       "Name: IP, dtype: int64"
      ]
     },
     "execution_count": 17,
     "metadata": {},
     "output_type": "execute_result"
    }
   ],
   "source": [
    "df_c[\"IP\"].value_counts().nlargest(20)"
   ]
  },
  {
   "cell_type": "code",
   "execution_count": 18,
   "metadata": {
    "ExecuteTime": {
     "end_time": "2021-04-23T12:27:55.050974Z",
     "start_time": "2021-04-23T12:27:55.037011Z"
    }
   },
   "outputs": [
    {
     "data": {
      "text/plain": [
       "950"
      ]
     },
     "execution_count": 18,
     "metadata": {},
     "output_type": "execute_result"
    }
   ],
   "source": [
    "df_c[\"IP\"].str.contains(pat=\"52.23.63\").sum()"
   ]
  },
  {
   "cell_type": "markdown",
   "metadata": {},
   "source": [
    "## Browsers"
   ]
  },
  {
   "cell_type": "code",
   "execution_count": 19,
   "metadata": {
    "ExecuteTime": {
     "end_time": "2021-04-23T12:27:55.066929Z",
     "start_time": "2021-04-23T12:27:55.051969Z"
    }
   },
   "outputs": [
    {
     "data": {
      "text/plain": [
       "Safari               514\n",
       "Chrome               472\n",
       "Internet Explorer      5\n",
       "Firefox                5\n",
       "Other                  3\n",
       "Safari Web View        1\n",
       "Name: Browser, dtype: int64"
      ]
     },
     "execution_count": 19,
     "metadata": {},
     "output_type": "execute_result"
    }
   ],
   "source": [
    "df_c[\"Browser\"].value_counts()"
   ]
  },
  {
   "cell_type": "markdown",
   "metadata": {},
   "source": [
    "## Devices"
   ]
  },
  {
   "cell_type": "code",
   "execution_count": 20,
   "metadata": {
    "ExecuteTime": {
     "end_time": "2021-04-23T12:27:55.082886Z",
     "start_time": "2021-04-23T12:27:55.067929Z"
    }
   },
   "outputs": [
    {
     "data": {
      "text/plain": [
       "Apple iPhone                       504\n",
       "Desktop                            479\n",
       "Apple iPad                           7\n",
       "Samsung Galaxy S9                    2\n",
       "Samsung Galaxy Amp Prime 3 2018      2\n",
       "Google Pixel 2 XL                    1\n",
       "Samsung Galaxy S8                    1\n",
       "Samsung Galaxy J3 2017               1\n",
       "LG Fortune                           1\n",
       "Samsung Galaxy S9+                   1\n",
       "Samsung Galaxy S6 Edge               1\n",
       "Name: Device Model, dtype: int64"
      ]
     },
     "execution_count": 20,
     "metadata": {},
     "output_type": "execute_result"
    }
   ],
   "source": [
    "df_c[\"Device Model\"].value_counts()"
   ]
  },
  {
   "cell_type": "markdown",
   "metadata": {},
   "source": [
    "## Conclusion for c.com"
   ]
  },
  {
   "cell_type": "markdown",
   "metadata": {},
   "source": [
    "As we can see, the same AWS IPs account for 95% of the traffic to c.com. This is not normal users activity. The traffic to c.com remains about constant throughout all 24 hours, this may be an indicator for automated activity. The fact that the most popular browsers are Safari and Chrome and most popular devices are iPhone and Desktop, makes me think about 2 options: 1) testing, 2) fradulent activity.\n",
    "\n",
    "Unlike the e.com case, in this case the traffic is more balanced, and there are more unique users and unique IPs. Plus the traffic is balanced between the 2 most popular devices and browsers, which might suggest that criminal mind behind this did make his homework, and tried to disguise their bad acitivty. But their mistake was to use the same cloud provider. It doesn't make any senese to me that all traffic to a \"normal\" website would come from a single cloud provider. Unless maybe all the traffic is being reffered to from a site the users first go to, that's on AWS servers, but in this is case the site owners should inform the cyber security people.\n",
    "\n",
    "Conculsion: very high probability for bad activity."
   ]
  },
  {
   "cell_type": "code",
   "execution_count": null,
   "metadata": {},
   "outputs": [],
   "source": []
  }
 ],
 "metadata": {
  "hide_input": false,
  "kernelspec": {
   "display_name": "Python [conda env:eha]",
   "language": "python",
   "name": "conda-env-eha-py"
  },
  "language_info": {
   "codemirror_mode": {
    "name": "ipython",
    "version": 3
   },
   "file_extension": ".py",
   "mimetype": "text/x-python",
   "name": "python",
   "nbconvert_exporter": "python",
   "pygments_lexer": "ipython3",
   "version": "3.9.4"
  },
  "toc": {
   "base_numbering": 1,
   "nav_menu": {},
   "number_sections": true,
   "sideBar": true,
   "skip_h1_title": false,
   "title_cell": "Table of Contents",
   "title_sidebar": "Contents",
   "toc_cell": false,
   "toc_position": {},
   "toc_section_display": true,
   "toc_window_display": true
  }
 },
 "nbformat": 4,
 "nbformat_minor": 4
}
