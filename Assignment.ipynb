{
 "cells": [
  {
   "cell_type": "code",
   "execution_count": 1,
   "metadata": {
    "ExecuteTime": {
     "end_time": "2021-02-15T09:39:07.161007Z",
     "start_time": "2021-02-15T09:39:06.260246Z"
    }
   },
   "outputs": [],
   "source": [
    "import pandas as pd\n",
    "\n",
    "from sklearn import linear_model\n",
    "from sklearn.model_selection import train_test_split"
   ]
  },
  {
   "cell_type": "markdown",
   "metadata": {},
   "source": [
    "# Prepare data and model"
   ]
  },
  {
   "cell_type": "code",
   "execution_count": 2,
   "metadata": {
    "ExecuteTime": {
     "end_time": "2021-02-15T09:39:07.181929Z",
     "start_time": "2021-02-15T09:39:07.161007Z"
    }
   },
   "outputs": [],
   "source": [
    "df = pd.read_csv(\"Data_for_Question_3.csv\", index_col=0)\n",
    "df = df.dropna(axis=1)\n",
    "df[\"Price sold\"] = df[\"Price sold\"].str.replace(\"$\", \"\", regex=False).str.replace(\",\", \"\").astype(float)\n",
    "\n",
    "X = df.drop(\"Price sold\", axis=1)\n",
    "y = df[\"Price sold\"]\n",
    "\n",
    "# split to train and test sets\n",
    "X_train, X_test, y_train, y_test = train_test_split(X, y, test_size=0.33, random_state=42)"
   ]
  },
  {
   "cell_type": "code",
   "execution_count": 3,
   "metadata": {
    "ExecuteTime": {
     "end_time": "2021-02-15T09:39:07.213090Z",
     "start_time": "2021-02-15T09:39:07.181929Z"
    }
   },
   "outputs": [
    {
     "data": {
      "text/plain": [
       "0.8548095029120559"
      ]
     },
     "execution_count": 3,
     "metadata": {},
     "output_type": "execute_result"
    }
   ],
   "source": [
    "reg = linear_model.LinearRegression()\n",
    "\n",
    "# fit model\n",
    "reg.fit(X_train, y_train)\n",
    "\n",
    "# get score\n",
    "reg.score(X_test, y_test)"
   ]
  },
  {
   "cell_type": "markdown",
   "metadata": {},
   "source": [
    "# Results"
   ]
  },
  {
   "cell_type": "code",
   "execution_count": 4,
   "metadata": {
    "ExecuteTime": {
     "end_time": "2021-02-15T09:39:07.220397Z",
     "start_time": "2021-02-15T09:39:07.214634Z"
    }
   },
   "outputs": [],
   "source": [
    "df[\"Predictions\"] = reg.predict(X)\n",
    "df[\"Diff\"] = df[\"Price sold\"] - df[\"Predictions\"]"
   ]
  },
  {
   "cell_type": "code",
   "execution_count": 5,
   "metadata": {
    "ExecuteTime": {
     "end_time": "2021-02-15T09:39:07.236979Z",
     "start_time": "2021-02-15T09:39:07.220397Z"
    }
   },
   "outputs": [
    {
     "data": {
      "text/html": [
       "<div>\n",
       "<style scoped>\n",
       "    .dataframe tbody tr th:only-of-type {\n",
       "        vertical-align: middle;\n",
       "    }\n",
       "\n",
       "    .dataframe tbody tr th {\n",
       "        vertical-align: top;\n",
       "    }\n",
       "\n",
       "    .dataframe thead th {\n",
       "        text-align: right;\n",
       "    }\n",
       "</style>\n",
       "<table border=\"1\" class=\"dataframe\">\n",
       "  <thead>\n",
       "    <tr style=\"text-align: right;\">\n",
       "      <th></th>\n",
       "      <th>Square Meters</th>\n",
       "      <th>Floor</th>\n",
       "      <th>Years since renovation</th>\n",
       "      <th>Price sold</th>\n",
       "      <th>Predictions</th>\n",
       "      <th>Diff</th>\n",
       "    </tr>\n",
       "    <tr>\n",
       "      <th>ID</th>\n",
       "      <th></th>\n",
       "      <th></th>\n",
       "      <th></th>\n",
       "      <th></th>\n",
       "      <th></th>\n",
       "      <th></th>\n",
       "    </tr>\n",
       "  </thead>\n",
       "  <tbody>\n",
       "    <tr>\n",
       "      <th>38</th>\n",
       "      <td>171</td>\n",
       "      <td>17</td>\n",
       "      <td>9</td>\n",
       "      <td>869123</td>\n",
       "      <td>1520091</td>\n",
       "      <td>-650968</td>\n",
       "    </tr>\n",
       "    <tr>\n",
       "      <th>343</th>\n",
       "      <td>180</td>\n",
       "      <td>39</td>\n",
       "      <td>10</td>\n",
       "      <td>1764813</td>\n",
       "      <td>2102589</td>\n",
       "      <td>-337776</td>\n",
       "    </tr>\n",
       "    <tr>\n",
       "      <th>340</th>\n",
       "      <td>200</td>\n",
       "      <td>32</td>\n",
       "      <td>9</td>\n",
       "      <td>1793512</td>\n",
       "      <td>2130845</td>\n",
       "      <td>-337333</td>\n",
       "    </tr>\n",
       "    <tr>\n",
       "      <th>504</th>\n",
       "      <td>181</td>\n",
       "      <td>35</td>\n",
       "      <td>9</td>\n",
       "      <td>1753536</td>\n",
       "      <td>2084356</td>\n",
       "      <td>-330820</td>\n",
       "    </tr>\n",
       "    <tr>\n",
       "      <th>564</th>\n",
       "      <td>203</td>\n",
       "      <td>29</td>\n",
       "      <td>11</td>\n",
       "      <td>1570149</td>\n",
       "      <td>1898039</td>\n",
       "      <td>-327890</td>\n",
       "    </tr>\n",
       "    <tr>\n",
       "      <th>...</th>\n",
       "      <td>...</td>\n",
       "      <td>...</td>\n",
       "      <td>...</td>\n",
       "      <td>...</td>\n",
       "      <td>...</td>\n",
       "      <td>...</td>\n",
       "    </tr>\n",
       "    <tr>\n",
       "      <th>714</th>\n",
       "      <td>158</td>\n",
       "      <td>35</td>\n",
       "      <td>8</td>\n",
       "      <td>2867892</td>\n",
       "      <td>2013203</td>\n",
       "      <td>854688</td>\n",
       "    </tr>\n",
       "    <tr>\n",
       "      <th>5</th>\n",
       "      <td>121</td>\n",
       "      <td>40</td>\n",
       "      <td>8</td>\n",
       "      <td>2796532</td>\n",
       "      <td>1899454</td>\n",
       "      <td>897077</td>\n",
       "    </tr>\n",
       "    <tr>\n",
       "      <th>39</th>\n",
       "      <td>162</td>\n",
       "      <td>1</td>\n",
       "      <td>10</td>\n",
       "      <td>1982469</td>\n",
       "      <td>932519</td>\n",
       "      <td>1049949</td>\n",
       "    </tr>\n",
       "    <tr>\n",
       "      <th>502</th>\n",
       "      <td>169</td>\n",
       "      <td>52</td>\n",
       "      <td>7</td>\n",
       "      <td>3721057</td>\n",
       "      <td>2641946</td>\n",
       "      <td>1079110</td>\n",
       "    </tr>\n",
       "    <tr>\n",
       "      <th>630</th>\n",
       "      <td>166</td>\n",
       "      <td>43</td>\n",
       "      <td>5</td>\n",
       "      <td>4117732</td>\n",
       "      <td>2543910</td>\n",
       "      <td>1573821</td>\n",
       "    </tr>\n",
       "  </tbody>\n",
       "</table>\n",
       "<p>1000 rows × 6 columns</p>\n",
       "</div>"
      ],
      "text/plain": [
       "     Square Meters  Floor  Years since renovation  Price sold  Predictions  \\\n",
       "ID                                                                           \n",
       "38             171     17                       9      869123      1520091   \n",
       "343            180     39                      10     1764813      2102589   \n",
       "340            200     32                       9     1793512      2130845   \n",
       "504            181     35                       9     1753536      2084356   \n",
       "564            203     29                      11     1570149      1898039   \n",
       "..             ...    ...                     ...         ...          ...   \n",
       "714            158     35                       8     2867892      2013203   \n",
       "5              121     40                       8     2796532      1899454   \n",
       "39             162      1                      10     1982469       932519   \n",
       "502            169     52                       7     3721057      2641946   \n",
       "630            166     43                       5     4117732      2543910   \n",
       "\n",
       "        Diff  \n",
       "ID            \n",
       "38   -650968  \n",
       "343  -337776  \n",
       "340  -337333  \n",
       "504  -330820  \n",
       "564  -327890  \n",
       "..       ...  \n",
       "714   854688  \n",
       "5     897077  \n",
       "39   1049949  \n",
       "502  1079110  \n",
       "630  1573821  \n",
       "\n",
       "[1000 rows x 6 columns]"
      ]
     },
     "execution_count": 5,
     "metadata": {},
     "output_type": "execute_result"
    }
   ],
   "source": [
    "df.sort_values(by=\"Diff\").astype(int)"
   ]
  },
  {
   "cell_type": "code",
   "execution_count": 6,
   "metadata": {
    "ExecuteTime": {
     "end_time": "2021-02-15T09:39:07.243961Z",
     "start_time": "2021-02-15T09:39:07.237976Z"
    }
   },
   "outputs": [
    {
     "data": {
      "text/plain": [
       "59"
      ]
     },
     "execution_count": 6,
     "metadata": {},
     "output_type": "execute_result"
    }
   ],
   "source": [
    "# get the rank of apartment 38 in the cheapest apartments\n",
    "len(df[\"Price sold\"].sort_values().loc[:38])"
   ]
  },
  {
   "cell_type": "code",
   "execution_count": 7,
   "metadata": {
    "ExecuteTime": {
     "end_time": "2021-02-15T09:39:07.671133Z",
     "start_time": "2021-02-15T09:39:07.245955Z"
    }
   },
   "outputs": [
    {
     "data": {
      "text/plain": [
       "<AxesSubplot:>"
      ]
     },
     "execution_count": 7,
     "metadata": {},
     "output_type": "execute_result"
    },
    {
     "data": {
      "image/png": "[encoded data removed]",
      "text/plain": [
       "<Figure size 432x288 with 1 Axes>"
      ]
     },
     "metadata": {
      "needs_background": "light"
     },
     "output_type": "display_data"
    }
   ],
   "source": [
    "df[\"Price sold\"].hist(bins=50)"
   ]
  },
  {
   "cell_type": "code",
   "execution_count": 8,
   "metadata": {
    "ExecuteTime": {
     "end_time": "2021-02-15T09:39:07.820651Z",
     "start_time": "2021-02-15T09:39:07.672132Z"
    }
   },
   "outputs": [
    {
     "data": {
      "text/plain": [
       "count       1000\n",
       "mean        1994\n",
       "std       164595\n",
       "min      -650968\n",
       "25%       -96077\n",
       "50%        -7104\n",
       "75%        81044\n",
       "max      1573821\n",
       "Name: Diff, dtype: int32"
      ]
     },
     "execution_count": 8,
     "metadata": {},
     "output_type": "execute_result"
    },
    {
     "data": {
      "image/png": "[encoded data removed]",
      "text/plain": [
       "<Figure size 432x288 with 1 Axes>"
      ]
     },
     "metadata": {
      "needs_background": "light"
     },
     "output_type": "display_data"
    }
   ],
   "source": [
    "df[\"Diff\"].hist(bins=50)\n",
    "df[\"Diff\"].describe().astype(int)"
   ]
  },
  {
   "cell_type": "code",
   "execution_count": 9,
   "metadata": {
    "ExecuteTime": {
     "end_time": "2021-02-15T09:39:07.939285Z",
     "start_time": "2021-02-15T09:39:07.821599Z"
    }
   },
   "outputs": [
    {
     "data": {
      "text/plain": [
       "<AxesSubplot:xlabel='ID'>"
      ]
     },
     "execution_count": 9,
     "metadata": {},
     "output_type": "execute_result"
    },
    {
     "data": {
      "image/png": "[encoded data removed]",
      "text/plain": [
       "<Figure size 432x288 with 1 Axes>"
      ]
     },
     "metadata": {
      "needs_background": "light"
     },
     "output_type": "display_data"
    }
   ],
   "source": [
    "df[[\"Price sold\", \"Diff\"]].plot()"
   ]
  },
  {
   "cell_type": "code",
   "execution_count": null,
   "metadata": {},
   "outputs": [],
   "source": []
  }
 ],
 "metadata": {
  "hide_input": false,
  "kernelspec": {
   "display_name": "Python 3",
   "language": "python",
   "name": "python3"
  },
  "language_info": {
   "codemirror_mode": {
    "name": "ipython",
    "version": 3
   },
   "file_extension": ".py",
   "mimetype": "text/x-python",
   "name": "python",
   "nbconvert_exporter": "python",
   "pygments_lexer": "ipython3",
   "version": "3.8.5"
  },
  "toc": {
   "base_numbering": 1,
   "nav_menu": {},
   "number_sections": true,
   "sideBar": true,
   "skip_h1_title": false,
   "title_cell": "Table of Contents",
   "title_sidebar": "Contents",
   "toc_cell": false,
   "toc_position": {},
   "toc_section_display": true,
   "toc_window_display": false
  }
 },
 "nbformat": 4,
 "nbformat_minor": 4
}
